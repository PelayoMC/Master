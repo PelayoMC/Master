{
 "cells": [
  {
   "cell_type": "code",
   "execution_count": 1,
   "metadata": {},
   "outputs": [
    {
     "name": "stderr",
     "output_type": "stream",
     "text": [
      "\"hadoop\" no se reconoce como un comando interno o externo,\n",
      "programa o archivo por lotes ejecutable.\n"
     ]
    }
   ],
   "source": [
    "# Podemos visualizar los comandos del sistema de archivos de Hadoop con --help.\n",
    "!hadoop fs -help"
   ]
  },
  {
   "cell_type": "code",
   "execution_count": 3,
   "metadata": {},
   "outputs": [
    {
     "name": "stdout",
     "output_type": "stream",
     "text": [
      "mkdir: `/user/root/input': File exists\r\n"
     ]
    }
   ],
   "source": [
    "# Crear directorios.\n",
    "!hadoop fs -mkdir /user/root/input"
   ]
  },
  {
   "cell_type": "code",
   "execution_count": 6,
   "metadata": {},
   "outputs": [
    {
     "name": "stdout",
     "output_type": "stream",
     "text": [
      "copyFromLocal: `/user/root/input/2.1/HR2019c.csv': File exists\r\n",
      "copyFromLocal: `/user/root/input/2.1/HR2018c.csv': File exists\r\n",
      "copyFromLocal: `/user/root/input/2.1/lifeExpectancyAtBirthc.csv': File exists\r\n",
      "copyFromLocal: `/user/root/input/googleplaystoreV3.csv': File exists\r\n",
      "copyFromLocal: `/user/root/input/texto.txt': File exists\r\n"
     ]
    }
   ],
   "source": [
    "# Importar datos desde el sistema de ficheros local a HDFS.\n",
    "!hadoop fs -copyFromLocal /dataset/* /user/root/input"
   ]
  },
  {
   "cell_type": "code",
   "execution_count": 11,
   "metadata": {},
   "outputs": [
    {
     "name": "stdout",
     "output_type": "stream",
     "text": [
      "Found 3 items\r\n",
      "drwxr-xr-x   - root supergroup          0 2022-10-31 18:16 /user/root/input/2.1\r\n",
      "-rw-r--r--   3 root supergroup     664067 2022-10-31 18:16 /user/root/input/googleplaystoreV3.csv\r\n",
      "-rw-r--r--   3 root supergroup         92 2022-10-31 18:16 /user/root/input/texto.txt\r\n"
     ]
    }
   ],
   "source": [
    "# Visualizar el contenido de un directorio.\n",
    "!hadoop fs -ls /user/root/input"
   ]
  },
  {
   "cell_type": "code",
   "execution_count": 13,
   "metadata": {},
   "outputs": [
    {
     "name": "stdout",
     "output_type": "stream",
     "text": [
      "copyToLocal: `/texto.txt': File exists\r\n"
     ]
    }
   ],
   "source": [
    "# Copiar un fichero de HDFS al sistema de archivos local.\n",
    "!hadoop fs -copyToLocal /user/root/input/texto.txt /"
   ]
  },
  {
   "cell_type": "code",
   "execution_count": 14,
   "metadata": {},
   "outputs": [],
   "source": [
    "# Cambiar permisos.\n",
    "!hadoop fs -chmod 777 /user/root/input/texto.txt"
   ]
  },
  {
   "cell_type": "code",
   "execution_count": 20,
   "metadata": {},
   "outputs": [
    {
     "name": "stdout",
     "output_type": "stream",
     "text": [
      "Esto es un ejemplo de programación mapreduce.\r\n",
      "Esto es un ejemplo de contador de palabras. \r\n"
     ]
    }
   ],
   "source": [
    "# Mostrar el contenido de un fichero de texto.\n",
    "!hadoop fs -cat /user/root/input/texto.txt"
   ]
  },
  {
   "cell_type": "code",
   "execution_count": 16,
   "metadata": {},
   "outputs": [
    {
     "name": "stdout",
     "output_type": "stream",
     "text": [
      "0,Photo Editor & Candy Camera & Grid & ScrapBook,ART_AND_DESIGN,4.1,159,10000,Free,0\r\n",
      "1,Coloring book moana,ART_AND_DESIGN,3.9,967,500000,Free,0\r\n",
      "2,U Launcher Lite – FREE Live Cool Themes Hide Apps,ART_AND_DESIGN,4.7,87510,5000000,Free,0\r\n",
      "3,Sketch - Draw & Paint,ART_AND_DESIGN,4.5,215644,50000000,Free,0\r\n",
      "4,Pixel Draw - Number Art Coloring Book,ART_AND_DESIGN,4.3,967,100000,Free,0\r\n",
      "5,Paper flowers instructions,ART_AND_DESIGN,4.4,167,50000,Free,0\r\n",
      "6,Smoke Effect Photo Maker - Smoke Editor,ART_AND_DESIGN,3.8,178,50000,Free,0\r\n",
      "7,Infinite Painter,ART_AND_DESIGN,4.1,36815,1000000,Free,0\r\n",
      "8,Garden Coloring Book,ART_AND_DESIGN,4.4,13791,1000000,Free,0\r\n",
      "9,Kids Paint Free - Drawing Fun,ART_AND_DESIGN,4.7,121,10000,Free,0\r\n",
      "10,Text on Photo - Fonteee,ART_AND_DESIGN,4.4,13880,1000000,Free,0\r\n",
      "11,Name Art Photo Editor - Focus n Filters,ART_AND_DESIGN,4.4,8788,1000000,Free,0\r\n",
      "12,Tattoo Name On My Photo Editor,ART_AND_DESIGN,4.2,44829,10000000,Free,0\r\n",
      "13,Mandala Coloring Book,ART_AND_DESIGN,4.6,4326,100000,Free,0\r\n",
      "14,3D Color Pixel by Nu"
     ]
    }
   ],
   "source": [
    "# Mostrar la parte inicial del contenido de un fichero.\n",
    "!hadoop fs -head /user/root/input/googleplaystoreV3.csv"
   ]
  },
  {
   "cell_type": "code",
   "execution_count": 17,
   "metadata": {},
   "outputs": [
    {
     "name": "stdout",
     "output_type": "stream",
     "text": [
      "rm: `fichero.': No such file or directory\r\n"
     ]
    }
   ],
   "source": [
    "# Eliminar ficheros.\n",
    "!hadoop fs -rm \"fichero\"."
   ]
  },
  {
   "cell_type": "code",
   "execution_count": 26,
   "metadata": {},
   "outputs": [
    {
     "name": "stdout",
     "output_type": "stream",
     "text": [
      "Replication 2 set: /user/root/input/texto.txt\n",
      "Waiting for /user/root/input/texto.txt ...\n",
      "WARNING: the waiting time may be long for DECREASING the number of replications.\n",
      ". done\n"
     ]
    }
   ],
   "source": [
    "# Los datanodes, como cualquier máquina, pueden sufrir fallos. \n",
    "# Esto puede provocar la pérdida de los bloques que almacenan. \n",
    "# HDFS, para conseguir tolerancia a fallos, replica los bloques que componen un fichero, \n",
    "# almacenando cada réplica en un nodo diferente.\n",
    "!hadoop fs -setrep -w 2 /user/root/input/texto.txt"
   ]
  },
  {
   "cell_type": "code",
   "execution_count": 27,
   "metadata": {},
   "outputs": [
    {
     "name": "stdout",
     "output_type": "stream",
     "text": [
      "-rwxrwxrwx   2 root supergroup         92 2022-10-31 18:16 /user/root/input/texto.txt\r\n"
     ]
    }
   ],
   "source": [
    "!hadoop fs -ls /user/root/input/texto.txt"
   ]
  },
  {
   "cell_type": "code",
   "execution_count": 28,
   "metadata": {},
   "outputs": [
    {
     "name": "stdout",
     "output_type": "stream",
     "text": [
      "Connecting to namenode via http://namenode:9870/fsck?ugi=root&files=1&blocks=1&path=%2F\n",
      "FSCK started by root (auth:SIMPLE) from /172.18.0.7 for path / at Mon Oct 31 18:41:24 CET 2022\n",
      "\n",
      "/ <dir>\n",
      "/tmp <dir>\n",
      "/tmp/hadoop-yarn <dir>\n",
      "/tmp/hadoop-yarn/staging <dir>\n",
      "/tmp/hadoop-yarn/staging/history <dir>\n",
      "/tmp/hadoop-yarn/staging/history/done <dir>\n",
      "/tmp/hadoop-yarn/staging/history/done_intermediate <dir>\n",
      "/tmp/hive <dir>\n",
      "/tmp/hive/_resultscache_ <dir>\n",
      "/tmp/hive/_resultscache_/results-2634322f-6a7f-4f19-8842-5314b0f2e298 <dir>\n",
      "/tmp/hive/root <dir>\n",
      "/tmp/hive/root/725ce793-ee4c-46a2-9332-c4a7586f884b <dir>\n",
      "/tmp/hive/root/725ce793-ee4c-46a2-9332-c4a7586f884b/_tmp_space.db <dir>\n",
      "/tmp/hive/root/91517ce7-e1da-4c96-a870-b70243d2bc23 <dir>\n",
      "/tmp/hive/root/91517ce7-e1da-4c96-a870-b70243d2bc23/_tmp_space.db <dir>\n",
      "/tmp/hive/root/ac603825-3fb4-45ff-bfb7-4cac03093c5f <dir>\n",
      "/tmp/hive/root/ac603825-3fb4-45ff-bfb7-4cac03093c5f/_tmp_space.db <dir>\n",
      "/tmp/hive/root/d65df1e7-638d-4649-bfd3-f22b4b644e69 <dir>\n",
      "/tmp/hive/root/d65df1e7-638d-4649-bfd3-f22b4b644e69/_tmp_space.db <dir>\n",
      "/user <dir>\n",
      "/user/hive <dir>\n",
      "/user/hive/warehouse <dir>\n",
      "/user/root <dir>\n",
      "/user/root/input <dir>\n",
      "/user/root/input/2.1 <dir>\n",
      "/user/root/input/2.1/HR2018c.csv 2881 bytes, replicated: replication=3, 1 block(s):  OK\n",
      "0. BP-858413720-172.17.0.2-1624180586568:blk_1073741826_1002 len=2881 Live_repl=3\n",
      "\n",
      "/user/root/input/2.1/HR2019c.csv 2892 bytes, replicated: replication=3, 1 block(s):  OK\n",
      "0. BP-858413720-172.17.0.2-1624180586568:blk_1073741825_1001 len=2892 Live_repl=3\n",
      "\n",
      "/user/root/input/2.1/lifeExpectancyAtBirthc.csv 13413 bytes, replicated: replication=3, 1 block(s):  OK\n",
      "0. BP-858413720-172.17.0.2-1624180586568:blk_1073741827_1003 len=13413 Live_repl=3\n",
      "\n",
      "/user/root/input/googleplaystoreV3.csv 664067 bytes, replicated: replication=3, 1 block(s):  OK\n",
      "0. BP-858413720-172.17.0.2-1624180586568:blk_1073741828_1004 len=664067 Live_repl=3\n",
      "\n",
      "/user/root/input/texto.txt 92 bytes, replicated: replication=2, 1 block(s):  OK\n",
      "0. BP-858413720-172.17.0.2-1624180586568:blk_1073741829_1005 len=92 Live_repl=2\n",
      "\n",
      "\n",
      "Status: HEALTHY\n",
      " Number of data-nodes:\t4\n",
      " Number of racks:\t\t1\n",
      " Total dirs:\t\t\t25\n",
      " Total symlinks:\t\t0\n",
      "\n",
      "Replicated Blocks:\n",
      " Total size:\t683345 B\n",
      " Total files:\t5\n",
      " Total blocks (validated):\t5 (avg. block size 136669 B)\n",
      " Minimally replicated blocks:\t5 (100.0 %)\n",
      " Over-replicated blocks:\t0 (0.0 %)\n",
      " Under-replicated blocks:\t0 (0.0 %)\n",
      " Mis-replicated blocks:\t\t0 (0.0 %)\n",
      " Default replication factor:\t3\n",
      " Average block replication:\t2.8\n",
      " Missing blocks:\t\t0\n",
      " Corrupt blocks:\t\t0\n",
      " Missing replicas:\t\t0 (0.0 %)\n",
      " Blocks queued for replication:\t0\n",
      "\n",
      "Erasure Coded Block Groups:\n",
      " Total size:\t0 B\n",
      " Total files:\t0\n",
      " Total block groups (validated):\t0\n",
      " Minimally erasure-coded block groups:\t0\n",
      " Over-erasure-coded block groups:\t0\n",
      " Under-erasure-coded block groups:\t0\n",
      " Unsatisfactory placement block groups:\t0\n",
      " Average block group size:\t0.0\n",
      " Missing block groups:\t\t0\n",
      " Corrupt block groups:\t\t0\n",
      " Missing internal blocks:\t0\n",
      " Blocks queued for replication:\t0\n",
      "FSCK ended at Mon Oct 31 18:41:24 CET 2022 in 24 milliseconds\n",
      "\n",
      "\n",
      "The filesystem under path '/' is HEALTHY\n"
     ]
    }
   ],
   "source": [
    "# HDFS dispone del comando \"fsck\" para comprobar inconsistencies en el sistema de archivos, \n",
    "# como la falta de una réplica de un bloque. El comando no corrige los errores, \n",
    "# ya que el namenode se encarga de realizarlo automáticamente.\n",
    "# Podemos ejecutar el comando con la opción de mostrar los archivos o bloques analizados.\n",
    "!hdfs fsck / -files -blocks"
   ]
  },
  {
   "cell_type": "code",
   "execution_count": 29,
   "metadata": {},
   "outputs": [
    {
     "name": "stdout",
     "output_type": "stream",
     "text": [
      "2022-10-31 18:42:05,998 INFO balancer.Balancer: namenodes  = [hdfs://namenode:8020]\n",
      "2022-10-31 18:42:06,000 INFO balancer.Balancer: parameters = Balancer.BalancerParameters [BalancingPolicy.Node, threshold = 10.0, max idle iteration = 5, #excluded nodes = 0, #included nodes = 0, #source nodes = 0, #blockpools = 0, run during upgrade = false]\n",
      "2022-10-31 18:42:06,001 INFO balancer.Balancer: included nodes = []\n",
      "2022-10-31 18:42:06,001 INFO balancer.Balancer: excluded nodes = []\n",
      "2022-10-31 18:42:06,001 INFO balancer.Balancer: source nodes = []\n",
      "Time Stamp               Iteration#  Bytes Already Moved  Bytes Left To Move  Bytes Being Moved  NameNode\n",
      "2022-10-31 18:42:06,004 INFO balancer.NameNodeConnector: getBlocks calls for hdfs://namenode:8020 will be rate-limited to 20 per second\n",
      "2022-10-31 18:42:07,075 INFO balancer.Balancer: dfs.namenode.get-blocks.max-qps = 20 (default=20)\n",
      "2022-10-31 18:42:07,075 INFO balancer.Balancer: dfs.balancer.movedWinWidth = 5400000 (default=5400000)\n",
      "2022-10-31 18:42:07,075 INFO balancer.Balancer: dfs.balancer.moverThreads = 1000 (default=1000)\n",
      "2022-10-31 18:42:07,075 INFO balancer.Balancer: dfs.balancer.dispatcherThreads = 200 (default=200)\n",
      "2022-10-31 18:42:07,075 INFO balancer.Balancer: dfs.balancer.getBlocks.size = 2147483648 (default=2147483648)\n",
      "2022-10-31 18:42:07,076 INFO balancer.Balancer: dfs.balancer.getBlocks.min-block-size = 10485760 (default=10485760)\n",
      "2022-10-31 18:42:07,076 INFO balancer.Balancer: dfs.datanode.balance.max.concurrent.moves = 100 (default=100)\n",
      "2022-10-31 18:42:07,076 INFO balancer.Balancer: dfs.datanode.balance.bandwidthPerSec = 104857600 (default=104857600)\n",
      "2022-10-31 18:42:07,081 INFO balancer.Balancer: dfs.balancer.max-size-to-move = 10737418240 (default=10737418240)\n",
      "2022-10-31 18:42:07,081 INFO balancer.Balancer: dfs.blocksize = 134217728 (default=134217728)\n",
      "2022-10-31 18:42:07,121 INFO net.NetworkTopology: Adding a new node: /default-rack/172.18.0.2:9866\n",
      "2022-10-31 18:42:07,121 INFO net.NetworkTopology: Adding a new node: /default-rack/172.18.0.4:9866\n",
      "2022-10-31 18:42:07,121 INFO net.NetworkTopology: Adding a new node: /default-rack/172.18.0.6:9866\n",
      "2022-10-31 18:42:07,121 INFO net.NetworkTopology: Adding a new node: /default-rack/172.18.0.3:9866\n",
      "2022-10-31 18:42:07,123 INFO balancer.Balancer: 0 over-utilized: []\n",
      "2022-10-31 18:42:07,123 INFO balancer.Balancer: 0 underutilized: []\n",
      "Oct 31, 2022 6:42:07 PM           0                  0 B                 0 B                0 B                  0  hdfs://namenode:8020\n",
      "The cluster is balanced. Exiting...\n",
      "Oct 31, 2022 6:42:07 PM  Balancing took 1.341 seconds\n"
     ]
    }
   ],
   "source": [
    "# Para un funcionamiento correcto del clúster necesitamos que los bloques estén almacenados uniformemente \n",
    "# en el conjunto de datanodes. Con el paso del tiempo, debido a escrituras y borrados, podemos tener un clúster \n",
    "# \"desbalanceado\". Hadoop posee una herramienta para balancear el clúster.\n",
    "!hdfs balancer"
   ]
  }
 ],
 "metadata": {
  "kernelspec": {
   "display_name": "Python 3.10.7 64-bit",
   "language": "python",
   "name": "python3"
  },
  "language_info": {
   "codemirror_mode": {
    "name": "ipython",
    "version": 3
   },
   "file_extension": ".py",
   "mimetype": "text/x-python",
   "name": "python",
   "nbconvert_exporter": "python",
   "pygments_lexer": "ipython3",
   "version": "3.10.7"
  },
  "vscode": {
   "interpreter": {
    "hash": "51d743a874fa8d48e9279318b5d35f29c98b8235464b5f337faba63b3fdbc840"
   }
  }
 },
 "nbformat": 4,
 "nbformat_minor": 4
}
