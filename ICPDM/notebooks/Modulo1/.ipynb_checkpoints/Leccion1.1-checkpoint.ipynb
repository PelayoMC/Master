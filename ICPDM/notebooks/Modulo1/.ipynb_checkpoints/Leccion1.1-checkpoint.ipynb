{
 "cells": [
  {
   "cell_type": "code",
   "execution_count": 1,
   "metadata": {},
   "outputs": [],
   "source": [
    "!yarn --daemon start resourcemanager\n",
    "!yarn --daemon start proxyserver"
   ]
  },
  {
   "cell_type": "code",
   "execution_count": 2,
   "metadata": {},
   "outputs": [],
   "source": [
    "!yarn --daemon start nodemanager"
   ]
  },
  {
   "cell_type": "code",
   "execution_count": 8,
   "metadata": {},
   "outputs": [
    {
     "name": "stdout",
     "output_type": "stream",
     "text": [
      "Error: Could not find or load main class ..map.py\r\n"
     ]
    }
   ],
   "source": [
    "!hadoop ./map.py"
   ]
  },
  {
   "cell_type": "code",
   "execution_count": 3,
   "metadata": {},
   "outputs": [
    {
     "name": "stdout",
     "output_type": "stream",
     "text": [
      "./reduce.py: 1: import: not found\r\n",
      "./reduce.py: 2: \r",
      ": not found\r\n",
      "./reduce.py: 3: curr_word: not found\r\n",
      "./reduce.py: 4: curr_count: not found\r\n",
      "./reduce.py: 5: \r",
      ": not found\r\n",
      "./reduce.py: 8: Syntax error: word unexpected (expecting \"do\")\r\n",
      "./map.py: 1: import: not found\r\n",
      "./map.py: 2: \r",
      ": not found\r\n",
      "./map.py: 6: Syntax error: word unexpected (expecting \"do\")\r\n"
     ]
    }
   ],
   "source": [
    "!cat /dataset/texto.txt | ./map.py | sort | ./reduce.py"
   ]
  },
  {
   "cell_type": "code",
   "execution_count": null,
   "metadata": {},
   "outputs": [],
   "source": []
  }
 ],
 "metadata": {
  "kernelspec": {
   "display_name": "Python 3",
   "language": "python",
   "name": "python3"
  },
  "language_info": {
   "codemirror_mode": {
    "name": "ipython",
    "version": 3
   },
   "file_extension": ".py",
   "mimetype": "text/x-python",
   "name": "python",
   "nbconvert_exporter": "python",
   "pygments_lexer": "ipython3",
   "version": "3.8.5"
  },
  "vscode": {
   "interpreter": {
    "hash": "51d743a874fa8d48e9279318b5d35f29c98b8235464b5f337faba63b3fdbc840"
   }
  }
 },
 "nbformat": 4,
 "nbformat_minor": 4
}
