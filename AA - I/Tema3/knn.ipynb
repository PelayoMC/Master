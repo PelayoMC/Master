{
 "cells": [
  {
   "cell_type": "code",
   "execution_count": null,
   "metadata": {},
   "outputs": [],
   "source": []
  }
 ],
 "metadata": {
  "kernelspec": {
   "display_name": "Python 3.10.7 64-bit",
   "language": "python",
   "name": "python3"
  },
  "language_info": {
   "name": "python",
   "version": "3.10.7"
  },
  "orig_nbformat": 4,
  "vscode": {
   "interpreter": {
    "hash": "51d743a874fa8d48e9279318b5d35f29c98b8235464b5f337faba63b3fdbc840"
   }
  }
 },
 "nbformat": 4,
 "nbformat_minor": 2
}
